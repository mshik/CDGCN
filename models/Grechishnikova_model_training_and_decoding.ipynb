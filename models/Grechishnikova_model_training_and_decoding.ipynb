{
 "cells": [
  {
   "cell_type": "code",
   "execution_count": null,
   "metadata": {
    "colab": {
     "base_uri": "https://localhost:8080/"
    },
    "executionInfo": {
     "elapsed": 28455,
     "status": "ok",
     "timestamp": 1646785925521,
     "user": {
      "displayName": "Shikha Mallick",
      "photoUrl": "https://lh3.googleusercontent.com/a-/AOh14GjoRyV4TB5l3kSyBeE28ldIN2S1glHF3FTZvVEf_Q=s64",
      "userId": "13917264246341255180"
     },
     "user_tz": -330
    },
    "id": "Y_2jy3gUF_KV",
    "outputId": "79f8596a-afdd-43dc-8211-e25e25ec6f6a"
   },
   "outputs": [],
   "source": [
    "# Run this cell to mount your Google Drive.\n",
    "from google.colab import drive\n",
    "drive.mount('/content/drive')"
   ]
  },
  {
   "cell_type": "code",
   "execution_count": null,
   "metadata": {
    "colab": {
     "base_uri": "https://localhost:8080/"
    },
    "executionInfo": {
     "elapsed": 17,
     "status": "ok",
     "timestamp": 1646785925522,
     "user": {
      "displayName": "Shikha Mallick",
      "photoUrl": "https://lh3.googleusercontent.com/a-/AOh14GjoRyV4TB5l3kSyBeE28ldIN2S1glHF3FTZvVEf_Q=s64",
      "userId": "13917264246341255180"
     },
     "user_tz": -330
    },
    "id": "JaZ3aRRfyVO7",
    "outputId": "dc7c334a-edfd-4ab7-8141-9cea2ae367de"
   },
   "outputs": [],
   "source": [
    "% cd /content/"
   ]
  },
  {
   "cell_type": "code",
   "execution_count": null,
   "metadata": {
    "colab": {
     "base_uri": "https://localhost:8080/"
    },
    "executionInfo": {
     "elapsed": 3393,
     "status": "ok",
     "timestamp": 1646785928905,
     "user": {
      "displayName": "Shikha Mallick",
      "photoUrl": "https://lh3.googleusercontent.com/a-/AOh14GjoRyV4TB5l3kSyBeE28ldIN2S1glHF3FTZvVEf_Q=s64",
      "userId": "13917264246341255180"
     },
     "user_tz": -330
    },
    "id": "VU55DZbcBbEm",
    "outputId": "ba3c9879-3a20-43a6-9479-c54fed6bbc40"
   },
   "outputs": [],
   "source": [
    "!git clone https://github.com/tensorflow/tensor2tensor.git\n",
    "#! pip install -q -U tensor2tensor==1.15.7"
   ]
  },
  {
   "cell_type": "code",
   "execution_count": null,
   "metadata": {
    "colab": {
     "base_uri": "https://localhost:8080/"
    },
    "executionInfo": {
     "elapsed": 16582,
     "status": "ok",
     "timestamp": 1646785945474,
     "user": {
      "displayName": "Shikha Mallick",
      "photoUrl": "https://lh3.googleusercontent.com/a-/AOh14GjoRyV4TB5l3kSyBeE28ldIN2S1glHF3FTZvVEf_Q=s64",
      "userId": "13917264246341255180"
     },
     "user_tz": -330
    },
    "id": "AqHcWy4XIxlm",
    "outputId": "ad1416c7-49b3-4933-d44b-1b0ff5b78b04"
   },
   "outputs": [],
   "source": [
    "%cd tensor2tensor\n",
    "!pip install ."
   ]
  },
  {
   "cell_type": "code",
   "execution_count": null,
   "metadata": {
    "colab": {
     "base_uri": "https://localhost:8080/"
    },
    "executionInfo": {
     "elapsed": 3068,
     "status": "ok",
     "timestamp": 1646785948536,
     "user": {
      "displayName": "Shikha Mallick",
      "photoUrl": "https://lh3.googleusercontent.com/a-/AOh14GjoRyV4TB5l3kSyBeE28ldIN2S1glHF3FTZvVEf_Q=s64",
      "userId": "13917264246341255180"
     },
     "user_tz": -330
    },
    "id": "H9vZN_xXBdXb",
    "outputId": "c3d45599-fef7-4363-dcb1-0eebb7330372"
   },
   "outputs": [],
   "source": [
    "import tensorflow.compat.v1 as tf\n",
    "tf.disable_v2_behavior()"
   ]
  },
  {
   "cell_type": "code",
   "execution_count": null,
   "metadata": {
    "colab": {
     "base_uri": "https://localhost:8080/",
     "height": 43
    },
    "executionInfo": {
     "elapsed": 26,
     "status": "ok",
     "timestamp": 1646785948537,
     "user": {
      "displayName": "Shikha Mallick",
      "photoUrl": "https://lh3.googleusercontent.com/a-/AOh14GjoRyV4TB5l3kSyBeE28ldIN2S1glHF3FTZvVEf_Q=s64",
      "userId": "13917264246341255180"
     },
     "user_tz": -330
    },
    "id": "NcnilWePt7e_",
    "outputId": "bc5b9469-5a61-4cb4-bc32-2cbd6bd5f219"
   },
   "outputs": [],
   "source": [
    "#import tensorflow as tf\n",
    "tf.__version__"
   ]
  },
  {
   "cell_type": "code",
   "execution_count": null,
   "metadata": {
    "id": "X7fxvxhCfp3c"
   },
   "outputs": [],
   "source": [
    "#import tensorflow as tf\n",
    "\n",
    "# Enable Eager execution - useful for seeing the generated data.\n",
    "tf.enable_eager_execution()\n",
    "\n",
    "from tensor2tensor.utils import trainer_lib\n",
    "\n",
    "# Set a seed so that we have deterministic outputs.\n",
    "RANDOM_SEED = 301\n",
    "trainer_lib.set_random_seed(RANDOM_SEED)"
   ]
  },
  {
   "cell_type": "code",
   "execution_count": null,
   "metadata": {
    "id": "mrfQnktzOfk7"
   },
   "outputs": [],
   "source": [
    "#upload train data ligands file\n",
    "from google.colab import files\n",
    "files.upload()"
   ]
  },
  {
   "cell_type": "code",
   "execution_count": null,
   "metadata": {
    "id": "EQ5NEEP8O3EC"
   },
   "outputs": [],
   "source": [
    "#upload train data proteins file\n",
    "from google.colab import files\n",
    "files.upload()"
   ]
  },
  {
   "cell_type": "code",
   "execution_count": null,
   "metadata": {
    "id": "zzO8UhPDq-mU"
   },
   "outputs": [],
   "source": [
    "!mv d2_tr_ligands.space_sep_seq ligands_train.space_sep_seq\n",
    "!mv d2_tr_proteins.space_sep_seq proteins_train.space_sep_seq"
   ]
  },
  {
   "cell_type": "code",
   "execution_count": null,
   "metadata": {
    "colab": {
     "base_uri": "https://localhost:8080/"
    },
    "executionInfo": {
     "elapsed": 13,
     "status": "ok",
     "timestamp": 1646785952604,
     "user": {
      "displayName": "Shikha Mallick",
      "photoUrl": "https://lh3.googleusercontent.com/a-/AOh14GjoRyV4TB5l3kSyBeE28ldIN2S1glHF3FTZvVEf_Q=s64",
      "userId": "13917264246341255180"
     },
     "user_tz": -330
    },
    "id": "AauM2mgp8_eS",
    "outputId": "d883965a-2018-43e3-ce99-0c5d3bb24965"
   },
   "outputs": [],
   "source": [
    "!ls"
   ]
  },
  {
   "cell_type": "code",
   "execution_count": null,
   "metadata": {
    "id": "VaZFv_mcfwr6"
   },
   "outputs": [],
   "source": [
    "import os\n",
    "\n",
    "# Setup and create directories.\n",
    "DATA_DIR = os.path.expanduser(\"/tmp/t2t/data\")\n",
    "OUTPUT_DIR = os.path.expanduser(\"/tmp/t2t/output\")\n",
    "TMP_DIR = os.path.expanduser(\"/tmp/t2t/tmp\")\n",
    "USR_DIR = os.path.expanduser(\"/tmp/t2t/usr\")\n",
    "\n",
    "# Create them.\n",
    "tf.gfile.MakeDirs(DATA_DIR)\n",
    "tf.gfile.MakeDirs(OUTPUT_DIR)\n",
    "tf.gfile.MakeDirs(TMP_DIR)\n",
    "tf.gfile.MakeDirs(USR_DIR)"
   ]
  },
  {
   "cell_type": "code",
   "execution_count": null,
   "metadata": {
    "id": "ksKwM3jT-ynU"
   },
   "outputs": [],
   "source": [
    "! mkdir transformer_scratch"
   ]
  },
  {
   "cell_type": "code",
   "execution_count": null,
   "metadata": {
    "colab": {
     "base_uri": "https://localhost:8080/"
    },
    "executionInfo": {
     "elapsed": 53897,
     "status": "ok",
     "timestamp": 1646786013391,
     "user": {
      "displayName": "Shikha Mallick",
      "photoUrl": "https://lh3.googleusercontent.com/a-/AOh14GjoRyV4TB5l3kSyBeE28ldIN2S1glHF3FTZvVEf_Q=s64",
      "userId": "13917264246341255180"
     },
     "user_tz": -330
    },
    "id": "ZlnJkc21xhR1",
    "outputId": "3020b1dd-f5da-4a9e-d15b-bbeb2f1ee324"
   },
   "outputs": [],
   "source": [
    "! cp /content/drive/MyDrive/IITPKD\\ System\\ Data/home/iit/Research\\ Work/Experiments/Baselines/molecule_structure_generation/outputs/Dataset2/model/checkpoint /tmp/t2t/output\n",
    "! cp /content/drive/MyDrive/IITPKD\\ System\\ Data/home/iit/Research\\ Work/Experiments/Baselines/molecule_structure_generation/outputs/Dataset2/model/decode /tmp/t2t/output\n",
    "! cp /content/drive/MyDrive/IITPKD\\ System\\ Data/home/iit/Research\\ Work/Experiments/Baselines/molecule_structure_generation/outputs/Dataset2/model/e* /tmp/t2t/output\n",
    "! cp /content/drive/MyDrive/IITPKD\\ System\\ Data/home/iit/Research\\ Work/Experiments/Baselines/molecule_structure_generation/outputs/Dataset2/model/f* /tmp/t2t/output\n",
    "! cp /content/drive/MyDrive/IITPKD\\ System\\ Data/home/iit/Research\\ Work/Experiments/Baselines/molecule_structure_generation/outputs/Dataset2/model/g* /tmp/t2t/output\n",
    "! cp /content/drive/MyDrive/IITPKD\\ System\\ Data/home/iit/Research\\ Work/Experiments/Baselines/molecule_structure_generation/outputs/Dataset2/model/h* /tmp/t2t/output\n",
    "! cp /content/drive/MyDrive/IITPKD\\ System\\ Data/home/iit/Research\\ Work/Experiments/Baselines/molecule_structure_generation/outputs/Dataset2/model/model.ckpt-210937.* /tmp/t2t/output"
   ]
  },
  {
   "cell_type": "code",
   "execution_count": null,
   "metadata": {
    "colab": {
     "base_uri": "https://localhost:8080/"
    },
    "executionInfo": {
     "elapsed": 38,
     "status": "ok",
     "timestamp": 1646786013392,
     "user": {
      "displayName": "Shikha Mallick",
      "photoUrl": "https://lh3.googleusercontent.com/a-/AOh14GjoRyV4TB5l3kSyBeE28ldIN2S1glHF3FTZvVEf_Q=s64",
      "userId": "13917264246341255180"
     },
     "user_tz": -330
    },
    "id": "JGpkyVqwPenb",
    "outputId": "ab5a6f16-69e3-4aef-a28c-7feb8ef9fce6"
   },
   "outputs": [],
   "source": [
    "% cd /tmp/t2t/data"
   ]
  },
  {
   "cell_type": "code",
   "execution_count": null,
   "metadata": {
    "colab": {
     "base_uri": "https://localhost:8080/",
     "height": 124,
     "resources": {
      "http://localhost:8080/nbextensions/google.colab/files.js": {
       "data": "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",
       "headers": [
        [
         "content-type",
         "application/javascript"
        ]
       ],
       "ok": true,
       "status": 200,
       "status_text": ""
      }
     }
    },
    "executionInfo": {
     "elapsed": 12162,
     "status": "ok",
     "timestamp": 1646786025539,
     "user": {
      "displayName": "Shikha Mallick",
      "photoUrl": "https://lh3.googleusercontent.com/a-/AOh14GjoRyV4TB5l3kSyBeE28ldIN2S1glHF3FTZvVEf_Q=s64",
      "userId": "13917264246341255180"
     },
     "user_tz": -330
    },
    "id": "b_vJy_ljPeuV",
    "outputId": "b2f81d0d-64b0-4446-872a-114f973fc4df"
   },
   "outputs": [],
   "source": [
    "#upload vocab file\n",
    "from google.colab import files\n",
    "files.upload()"
   ]
  },
  {
   "cell_type": "code",
   "execution_count": null,
   "metadata": {
    "colab": {
     "base_uri": "https://localhost:8080/"
    },
    "executionInfo": {
     "elapsed": 22,
     "status": "ok",
     "timestamp": 1646786025540,
     "user": {
      "displayName": "Shikha Mallick",
      "photoUrl": "https://lh3.googleusercontent.com/a-/AOh14GjoRyV4TB5l3kSyBeE28ldIN2S1glHF3FTZvVEf_Q=s64",
      "userId": "13917264246341255180"
     },
     "user_tz": -330
    },
    "id": "YAPW15g1PjeC",
    "outputId": "e8fc1ee9-8c39-48f6-b405-81f4ec5a34d4"
   },
   "outputs": [],
   "source": [
    "% cd /content"
   ]
  },
  {
   "cell_type": "code",
   "execution_count": null,
   "metadata": {
    "colab": {
     "base_uri": "https://localhost:8080/"
    },
    "executionInfo": {
     "elapsed": 19,
     "status": "ok",
     "timestamp": 1646786025540,
     "user": {
      "displayName": "Shikha Mallick",
      "photoUrl": "https://lh3.googleusercontent.com/a-/AOh14GjoRyV4TB5l3kSyBeE28ldIN2S1glHF3FTZvVEf_Q=s64",
      "userId": "13917264246341255180"
     },
     "user_tz": -330
    },
    "id": "9bBqYYHtAEfD",
    "outputId": "807c8dea-85c3-4ca6-d211-0b8da2c121a4"
   },
   "outputs": [],
   "source": [
    "%%writefile transformer_scratch/prob.py\n",
    "\n",
    "import re\n",
    "\n",
    "  \n",
    "  \n",
    "# `Problem` is the base class for any dataset that we want to add to T2T -- it\n",
    "# unifies the specification of the problem for generating training data,\n",
    "# training, evaluation and inference.\n",
    "#\n",
    "# All its methods (except `generate_data`) have reasonable default\n",
    "# implementations.\n",
    "#\n",
    "# A sub-class must implement `generate_data(data_dir, tmp_dir)` -- this method\n",
    "# is called by t2t-trainer or t2t-datagen to actually generate TFRecord dataset\n",
    "# files on disk.\n",
    "from tensor2tensor.data_generators import problem\n",
    "\n",
    "# Certain categories of problems are very common, like where either the input or\n",
    "# output is text, for such problems we define an (abstract) sub-class of\n",
    "# `Problem` called `Text2TextProblem` -- this implements `generate_data` in\n",
    "# terms of another function `generate_samples`. Sub-classes must override\n",
    "# `generate_samples` and `is_generate_per_split`.\n",
    "from tensor2tensor.data_generators import text_problems\n",
    "\n",
    "# Every non-abstract problem sub-class (as well as models and hyperparameter\n",
    "# sets) must be registered with T2T so that T2T knows about it and can look it\n",
    "# up when you specify your problem on the commandline to t2t-trainer or\n",
    "# t2t-datagen.\n",
    "#\n",
    "# One uses:\n",
    "# `register_problem` for a new Problem sub-class.\n",
    "# `register_model` for a new T2TModel sub-class.\n",
    "# `register_hparams` for a new hyperparameter set. All hyperparameter sets\n",
    "# typically extend `common_hparams.basic_params1` (directly or indirectly).\n",
    "from tensor2tensor.utils import registry\n",
    "\n",
    "\n",
    "# By default, when you register a problem (or model or hyperparameter set) the\n",
    "# name with which it gets registered is the 'snake case' version -- so here\n",
    "# the Problem class `ProteinSpecificLigandGeneration` will be registered with\n",
    "# the name `protein_specific_ligand_generation`.\n",
    "#\n",
    "# One can override this default by actually assigning a name as follows:\n",
    "# `@registry.register_problem(\"my_awesome_problem\")`\n",
    "#\n",
    "# The registered name is specified to the t2t-trainer or t2t-datagen using the\n",
    "# commandline flag `--problem`.\n",
    "@registry.register_problem('protein_specific_ligand_generation')\n",
    "\n",
    "# We inherit from `Text2TextProblem` which takes care of a lot of details\n",
    "# regarding reading and writing the data to disk, what vocabulary type one\n",
    "# should use, its size etc -- so that we need not worry about them, one can,\n",
    "# of course, override those.\n",
    "\n",
    "\n",
    "class ProteinSpecificLigandGeneration(text_problems.Text2TextProblem):\n",
    "  \n",
    "\n",
    "  # START: Methods we should override.\n",
    "\n",
    "  # The methods that need to be overriden from `Text2TextProblem` are:\n",
    "  # `is_generate_per_split` and\n",
    "  # `generate_samples`.\n",
    "\n",
    "  @property\n",
    "  def is_generate_per_split(self):\n",
    "    # If we have pre-existing data splits for (train, eval, test) then we set\n",
    "    # this to True, which will have generate_samples be called for each of the\n",
    "    # dataset_splits.\n",
    "    #\n",
    "    # If we do not have pre-existing data splits, we set this to False, which\n",
    "    # will have generate_samples be called just once and the Problem will\n",
    "    # automatically partition the data into dataset_splits.\n",
    "    return False\n",
    "\n",
    "  def generate_samples(self, data_dir, tmp_dir, dataset_split):\n",
    "    # Here we are generating the data in-situ using the `sample_sentence`\n",
    "    # function, otherwise we would have downloaded the data and put it in\n",
    "    # `tmp_dir` -- and read it from that location.\n",
    "    del tmp_dir\n",
    "\n",
    "    # Unused here, is used in `Text2TextProblem.generate_data`.\n",
    "    del data_dir\n",
    "\n",
    "    # This would have been useful if `self.is_generate_per_split()` was True.\n",
    "    # In that case we would have checked if we were generating a training,\n",
    "    # evaluation or test sample. This is of type `problem.DatasetSplit`.\n",
    "    del dataset_split\n",
    "\n",
    "    \n",
    "  #  drug_file = open (\"drugs.smi.txt\", \"r\")\n",
    "  \n",
    "  \n",
    "   \n",
    "    with open(\"/content/proteins_train.space_sep_seq\") as file1, open(\"/content/ligands_train.space_sep_seq\") as file2:\n",
    "      for x, y in zip(file1, file2):\n",
    "        inputs = x.strip()\n",
    "        targets = y.strip()\n",
    "        yield {\"inputs\":inputs,\"targets\":targets}\n",
    "     \n",
    "    \n",
    "    \n",
    "  # END: Methods we should override.\n",
    "\n",
    "  # START: Overridable methods.\n",
    "\n",
    "  @property\n",
    "  def vocab_type(self):\n",
    "    # We can use different types of vocabularies, `VocabType.CHARACTER`,\n",
    "    # `VocabType.SUBWORD` and `VocabType.TOKEN`.\n",
    "    #\n",
    "    # SUBWORD and CHARACTER are fully invertible -- but SUBWORD provides a good\n",
    "    # tradeoff between CHARACTER and TOKEN.\n",
    "    return text_problems.VocabType.TOKEN\n",
    "  \n",
    "\n",
    "\n",
    "\n",
    "  @property\n",
    "  def dataset_splits(self):\n",
    "    # Since we are responsible for generating the dataset splits, we override\n",
    "    # `Text2TextProblem.dataset_splits` to specify that we intend to keep\n",
    "    # 80% data for training and 10% for evaluation and testing each.\n",
    "    return [{\n",
    "        \"split\": problem.DatasetSplit.TRAIN,\n",
    "        \"shards\": 144000,\n",
    "    }, {\n",
    "        \"split\": problem.DatasetSplit.EVAL,\n",
    "        \"shards\": 1,\n",
    "    }, {\n",
    "        \"split\": problem.DatasetSplit.TEST,\n",
    "        \"shards\": 1,\n",
    "    }]\n",
    "\n",
    " # END: Overridable methods.\n"
   ]
  },
  {
   "cell_type": "code",
   "execution_count": null,
   "metadata": {
    "colab": {
     "base_uri": "https://localhost:8080/"
    },
    "executionInfo": {
     "elapsed": 14,
     "status": "ok",
     "timestamp": 1646786025541,
     "user": {
      "displayName": "Shikha Mallick",
      "photoUrl": "https://lh3.googleusercontent.com/a-/AOh14GjoRyV4TB5l3kSyBeE28ldIN2S1glHF3FTZvVEf_Q=s64",
      "userId": "13917264246341255180"
     },
     "user_tz": -330
    },
    "id": "3CuAwlDVDL3f",
    "outputId": "77d3fe13-cf38-4384-e4e7-68e9de61b260"
   },
   "outputs": [],
   "source": [
    "%%writefile transformer_scratch/__init__.py\n",
    "\n",
    "from transformer_scratch import prob"
   ]
  },
  {
   "cell_type": "markdown",
   "metadata": {
    "id": "Acd9ONtUEp8m"
   },
   "source": [
    "# Very Important!\n",
    "## Do these steps to successfully run this code on TF2 version:\n",
    "\n",
    "0.   Change train:val:test splits in above code cell.\n",
    "1.   Go to content/tensor2tensor/tensor2tensor/bin/t2t-trainer\n",
    "2.   Update file with below code\n",
    "    ```\n",
    "    from __future__ import absolute_import\n",
    "    from __future__ import division\n",
    "    from __future__ import print_function\n",
    "\n",
    "    from tensor2tensor.bin import t2t_trainer\n",
    "\n",
    "    import tensorflow.compat.v1 as tf\n",
    "\n",
    "    def main(argv):\n",
    "        t2t_trainer.main(argv)\n",
    "\n",
    "    if __name__ == \"__main__\":\n",
    "        tf.disable_v2_behavior()\n",
    "        tf.logging.set_verbosity(tf.logging.INFO)\n",
    "        tf.app.run(main)\n",
    "    ```\n",
    "3.  Go to content/tensor2tensor/tensor2tensor/bin/t2t-decoder\n",
    "4.   Update file with below code\n",
    "    ```\n",
    "    \"\"\"t2t-decoder.\"\"\"\n",
    "    from __future__ import absolute_import\n",
    "    from __future__ import division\n",
    "    from __future__ import print_function\n",
    "\n",
    "    #import tensorflow.compat.v1 as tf\n",
    "    from tensor2tensor.bin import t2t_decoder\n",
    "    import logging\n",
    "    #import tensorflow as tf\n",
    "    import tensorflow.compat.v1 as tf\n",
    "\n",
    "    def main(argv):\n",
    "        t2t_decoder.main(argv)\n",
    "\n",
    "    if __name__ == \"__main__\":\n",
    "        tf.disable_v2_behavior()\n",
    "        tf.logging.set_verbosity(tf.logging.INFO)\n",
    "        tf.app.run()\n",
    "    ```\n",
    "5.   Go to usr/local/bin/t2t-trainer\n",
    "6.   Update file with below code\n",
    "    ```\n",
    "    from __future__ import absolute_import\n",
    "    from __future__ import division\n",
    "    from __future__ import print_function\n",
    "\n",
    "    from tensor2tensor.bin import t2t_trainer\n",
    "\n",
    "    import tensorflow.compat.v1 as tf\n",
    "\n",
    "    def main(argv):\n",
    "        t2t_trainer.main(argv)\n",
    "\n",
    "    if __name__ == \"__main__\":\n",
    "        tf.disable_v2_behavior()\n",
    "        tf.logging.set_verbosity(tf.logging.INFO)\n",
    "        tf.app.run(main)\n",
    "    ```\n",
    "7.  Go to usr/local/bin/t2t-decoder\n",
    "8.   Update file with below code\n",
    "    ```\n",
    "    \"\"\"t2t-decoder.\"\"\"\n",
    "    from __future__ import absolute_import\n",
    "    from __future__ import division\n",
    "    from __future__ import print_function\n",
    "\n",
    "    #import tensorflow.compat.v1 as tf\n",
    "    from tensor2tensor.bin import t2t_decoder\n",
    "    import logging\n",
    "    #import tensorflow as tf\n",
    "    import tensorflow.compat.v1 as tf\n",
    "\n",
    "    def main(argv):\n",
    "        t2t_decoder.main(argv)\n",
    "\n",
    "    if __name__ == \"__main__\":\n",
    "        tf.disable_v2_behavior()\n",
    "        tf.logging.set_verbosity(tf.logging.INFO)\n",
    "        tf.app.run()\n",
    "    ```\n",
    "\n"
   ]
  },
  {
   "cell_type": "code",
   "execution_count": null,
   "metadata": {
    "colab": {
     "base_uri": "https://localhost:8080/"
    },
    "executionInfo": {
     "elapsed": 10,
     "status": "ok",
     "timestamp": 1646786025541,
     "user": {
      "displayName": "Shikha Mallick",
      "photoUrl": "https://lh3.googleusercontent.com/a-/AOh14GjoRyV4TB5l3kSyBeE28ldIN2S1glHF3FTZvVEf_Q=s64",
      "userId": "13917264246341255180"
     },
     "user_tz": -330
    },
    "id": "YR_OGZCn0ZK9",
    "outputId": "2693c199-50e8-41a1-ce92-671b8aa9857e"
   },
   "outputs": [],
   "source": [
    "%%writefile /content/tensor2tensor/tensor2tensor/bin/t2t-trainer\n",
    "#!/usr/bin/env python\n",
    "\"\"\"Trainer for Tensor2Tensor.\n",
    "\n",
    "This script is used to train your models in Tensor2Tensor.\n",
    "\n",
    "For example, to train a shake-shake model on MNIST run this:\n",
    "\n",
    "t2t-trainer \\\n",
    "  --generate_data \\\n",
    "  --problem=image_mnist \\\n",
    "  --data_dir=~/t2t_data \\\n",
    "  --tmp_dir=~/t2t_data/tmp\n",
    "  --model=shake_shake \\\n",
    "  --hparams_set=shake_shake_quick \\\n",
    "  --output_dir=~/t2t_train/mnist1 \\\n",
    "  --train_steps=1000 \\\n",
    "  --eval_steps=100\n",
    "\"\"\"\n",
    "from __future__ import absolute_import\n",
    "from __future__ import division\n",
    "from __future__ import print_function\n",
    "\n",
    "from tensor2tensor.bin import t2t_trainer\n",
    "\n",
    "import tensorflow.compat.v1 as tf\n",
    "\n",
    "def main(argv):\n",
    "   t2t_trainer.main(argv)\n",
    "\n",
    "if __name__ == \"__main__\":\n",
    "   tf.disable_v2_behavior()\n",
    "   tf.logging.set_verbosity(tf.logging.INFO)\n",
    "   tf.app.run(main)"
   ]
  },
  {
   "cell_type": "code",
   "execution_count": null,
   "metadata": {
    "colab": {
     "base_uri": "https://localhost:8080/"
    },
    "executionInfo": {
     "elapsed": 8,
     "status": "ok",
     "timestamp": 1646786025541,
     "user": {
      "displayName": "Shikha Mallick",
      "photoUrl": "https://lh3.googleusercontent.com/a-/AOh14GjoRyV4TB5l3kSyBeE28ldIN2S1glHF3FTZvVEf_Q=s64",
      "userId": "13917264246341255180"
     },
     "user_tz": -330
    },
    "id": "wwh0OtiGzn-w",
    "outputId": "62e82ce1-ff5d-4b3a-880f-4abad4864946"
   },
   "outputs": [],
   "source": [
    "%%writefile /usr/local/bin/t2t-trainer\n",
    "#!/usr/bin/env python\n",
    "\"\"\"Trainer for Tensor2Tensor.\n",
    "\n",
    "This script is used to train your models in Tensor2Tensor.\n",
    "\n",
    "For example, to train a shake-shake model on MNIST run this:\n",
    "\n",
    "t2t-trainer \\\n",
    "  --generate_data \\\n",
    "  --problem=image_mnist \\\n",
    "  --data_dir=~/t2t_data \\\n",
    "  --tmp_dir=~/t2t_data/tmp\n",
    "  --model=shake_shake \\\n",
    "  --hparams_set=shake_shake_quick \\\n",
    "  --output_dir=~/t2t_train/mnist1 \\\n",
    "  --train_steps=1000 \\\n",
    "  --eval_steps=100\n",
    "\"\"\"\n",
    "from __future__ import absolute_import\n",
    "from __future__ import division\n",
    "from __future__ import print_function\n",
    "\n",
    "from tensor2tensor.bin import t2t_trainer\n",
    "\n",
    "import tensorflow.compat.v1 as tf\n",
    "\n",
    "def main(argv):\n",
    "   t2t_trainer.main(argv)\n",
    "\n",
    "if __name__ == \"__main__\":\n",
    "   tf.disable_v2_behavior()\n",
    "   tf.logging.set_verbosity(tf.logging.INFO)\n",
    "   tf.app.run(main)"
   ]
  },
  {
   "cell_type": "code",
   "execution_count": null,
   "metadata": {
    "colab": {
     "base_uri": "https://localhost:8080/"
    },
    "executionInfo": {
     "elapsed": 11,
     "status": "ok",
     "timestamp": 1646786026205,
     "user": {
      "displayName": "Shikha Mallick",
      "photoUrl": "https://lh3.googleusercontent.com/a-/AOh14GjoRyV4TB5l3kSyBeE28ldIN2S1glHF3FTZvVEf_Q=s64",
      "userId": "13917264246341255180"
     },
     "user_tz": -330
    },
    "id": "iBM-Vca10ZNy",
    "outputId": "bd34df04-e841-48a3-c26a-8eb075578d29"
   },
   "outputs": [],
   "source": [
    "%%writefile /content/tensor2tensor/tensor2tensor/bin/t2t-decoder\n",
    "#!/usr/bin/env python\n",
    "from __future__ import absolute_import\n",
    "from __future__ import division\n",
    "from __future__ import print_function\n",
    "\n",
    "#import tensorflow.compat.v1 as tf\n",
    "from tensor2tensor.bin import t2t_decoder\n",
    "import logging\n",
    "#import tensorflow as tf\n",
    "import tensorflow.compat.v1 as tf\n",
    "\n",
    "def main(argv):\n",
    "   t2t_decoder.main(argv)\n",
    "\n",
    "if __name__ == \"__main__\":\n",
    "   tf.disable_v2_behavior()\n",
    "   tf.logging.set_verbosity(tf.logging.INFO)\n",
    "   tf.app.run()"
   ]
  },
  {
   "cell_type": "code",
   "execution_count": null,
   "metadata": {
    "colab": {
     "base_uri": "https://localhost:8080/"
    },
    "executionInfo": {
     "elapsed": 10,
     "status": "ok",
     "timestamp": 1646786026206,
     "user": {
      "displayName": "Shikha Mallick",
      "photoUrl": "https://lh3.googleusercontent.com/a-/AOh14GjoRyV4TB5l3kSyBeE28ldIN2S1glHF3FTZvVEf_Q=s64",
      "userId": "13917264246341255180"
     },
     "user_tz": -330
    },
    "id": "uzb9OtF50ZQy",
    "outputId": "bf63ab1f-e3fa-4781-9edc-8d1c52f207ba"
   },
   "outputs": [],
   "source": [
    "%%writefile /usr/local/bin/t2t-decoder\n",
    "#!/usr/bin/env python\n",
    "from __future__ import absolute_import\n",
    "from __future__ import division\n",
    "from __future__ import print_function\n",
    "\n",
    "#import tensorflow.compat.v1 as tf\n",
    "from tensor2tensor.bin import t2t_decoder\n",
    "import logging\n",
    "#import tensorflow as tf\n",
    "import tensorflow.compat.v1 as tf\n",
    "\n",
    "def main(argv):\n",
    "   t2t_decoder.main(argv)\n",
    "\n",
    "if __name__ == \"__main__\":\n",
    "   tf.disable_v2_behavior()\n",
    "   tf.logging.set_verbosity(tf.logging.INFO)\n",
    "   tf.app.run()"
   ]
  },
  {
   "cell_type": "code",
   "execution_count": null,
   "metadata": {
    "id": "RiHQ2BVF-qZ1"
   },
   "outputs": [],
   "source": [
    "import time\n",
    "startTime = int(round(time.time() / 60))"
   ]
  },
  {
   "cell_type": "code",
   "execution_count": null,
   "metadata": {
    "colab": {
     "base_uri": "https://localhost:8080/"
    },
    "executionInfo": {
     "elapsed": 672088,
     "status": "ok",
     "timestamp": 1646588035552,
     "user": {
      "displayName": "Shikha Mallick",
      "photoUrl": "https://lh3.googleusercontent.com/a-/AOh14GjoRyV4TB5l3kSyBeE28ldIN2S1glHF3FTZvVEf_Q=s64",
      "userId": "13917264246341255180"
     },
     "user_tz": -330
    },
    "id": "3RMDmY3dELbM",
    "outputId": "369a6a7a-df19-4280-d774-5ad8625d3e6e"
   },
   "outputs": [],
   "source": [
    "! t2t-datagen \\\n",
    "  --problem=protein_specific_ligand_generation \\\n",
    "  --data_dir=/tmp/t2t/data \\\n",
    "  --tmp_dir=/tmp/t2t/tmp \\\n",
    "  --t2t_usr_dir=/content/transformer_scratch"
   ]
  },
  {
   "cell_type": "code",
   "execution_count": null,
   "metadata": {
    "colab": {
     "base_uri": "https://localhost:8080/"
    },
    "executionInfo": {
     "elapsed": 7101445,
     "status": "ok",
     "timestamp": 1646596755852,
     "user": {
      "displayName": "Shikha Mallick",
      "photoUrl": "https://lh3.googleusercontent.com/a-/AOh14GjoRyV4TB5l3kSyBeE28ldIN2S1glHF3FTZvVEf_Q=s64",
      "userId": "13917264246341255180"
     },
     "user_tz": -330
    },
    "id": "cQrJDMDcD8ww",
    "outputId": "6af8a6bf-1268-4a83-d74d-644f7098373c"
   },
   "outputs": [],
   "source": [
    "! t2t-trainer \\\n",
    "  --model=transformer \\\n",
    "  --hparams_set=transformer_tiny \\\n",
    "  --hparams=\"batch_size=4096,max_length=0,label_smoothing=0,learning_rate_decay_scheme='noam',num_hidden_layers=4\" \\\n",
    "  --problem=protein_specific_ligand_generation \\\n",
    "  --worker_gpu=1 \\\n",
    "  --train_steps=210937 \\\n",
    "  --data_dir=/tmp/t2t/data \\\n",
    "  --output_dir=/tmp/t2t/output \\\n",
    "  --t2t_usr_dir=/content/transformer_scratch"
   ]
  },
  {
   "cell_type": "code",
   "execution_count": null,
   "metadata": {
    "colab": {
     "base_uri": "https://localhost:8080/"
    },
    "executionInfo": {
     "elapsed": 15,
     "status": "ok",
     "timestamp": 1646596755853,
     "user": {
      "displayName": "Shikha Mallick",
      "photoUrl": "https://lh3.googleusercontent.com/a-/AOh14GjoRyV4TB5l3kSyBeE28ldIN2S1glHF3FTZvVEf_Q=s64",
      "userId": "13917264246341255180"
     },
     "user_tz": -330
    },
    "id": "mPLIgfBg_Bw5",
    "outputId": "d3a67431-7c12-45e4-fd27-460a524a7e7c"
   },
   "outputs": [],
   "source": [
    "endTime = int(round(time.time() / 60))\n",
    "print(f'Total time for training: {endTime - startTime} min')"
   ]
  },
  {
   "cell_type": "code",
   "execution_count": null,
   "metadata": {
    "colab": {
     "base_uri": "https://localhost:8080/"
    },
    "executionInfo": {
     "elapsed": 9,
     "status": "ok",
     "timestamp": 1646596755854,
     "user": {
      "displayName": "Shikha Mallick",
      "photoUrl": "https://lh3.googleusercontent.com/a-/AOh14GjoRyV4TB5l3kSyBeE28ldIN2S1glHF3FTZvVEf_Q=s64",
      "userId": "13917264246341255180"
     },
     "user_tz": -330
    },
    "id": "LOI41mt2FYi3",
    "outputId": "7e7a1bac-91e8-4b7a-af77-58f0da14a077"
   },
   "outputs": [],
   "source": [
    "%cd /tmp/t2t/output"
   ]
  },
  {
   "cell_type": "code",
   "execution_count": null,
   "metadata": {
    "colab": {
     "base_uri": "https://localhost:8080/"
    },
    "executionInfo": {
     "elapsed": 8,
     "status": "ok",
     "timestamp": 1646596755855,
     "user": {
      "displayName": "Shikha Mallick",
      "photoUrl": "https://lh3.googleusercontent.com/a-/AOh14GjoRyV4TB5l3kSyBeE28ldIN2S1glHF3FTZvVEf_Q=s64",
      "userId": "13917264246341255180"
     },
     "user_tz": -330
    },
    "id": "YOSGh_T0f9FG",
    "outputId": "95ebb5b0-3f5e-47ff-feca-490d51b024be"
   },
   "outputs": [],
   "source": [
    "!ls"
   ]
  },
  {
   "cell_type": "code",
   "execution_count": null,
   "metadata": {
    "colab": {
     "base_uri": "https://localhost:8080/"
    },
    "executionInfo": {
     "elapsed": 39761,
     "status": "ok",
     "timestamp": 1646596795611,
     "user": {
      "displayName": "Shikha Mallick",
      "photoUrl": "https://lh3.googleusercontent.com/a-/AOh14GjoRyV4TB5l3kSyBeE28ldIN2S1glHF3FTZvVEf_Q=s64",
      "userId": "13917264246341255180"
     },
     "user_tz": -330
    },
    "id": "_Doun1MlFFz6",
    "outputId": "e3c0d6e0-d328-4b6d-b092-7a32889d631a"
   },
   "outputs": [],
   "source": [
    "!cp checkpoint /content/drive/MyDrive/IITPKD\\ System\\ Data/home/iit/Research\\ Work/Experiments/Baselines/molecule_structure_generation/outputs/\n",
    "!cp decode /content/drive/MyDrive/IITPKD\\ System\\ Data/home/iit/Research\\ Work/Experiments/Baselines/molecule_structure_generation/outputs/\n",
    "!cp -r e* /content/drive/MyDrive/IITPKD\\ System\\ Data/home/iit/Research\\ Work/Experiments/Baselines/molecule_structure_generation/outputs/\n",
    "!cp f* /content/drive/MyDrive/IITPKD\\ System\\ Data/home/iit/Research\\ Work/Experiments/Baselines/molecule_structure_generation/outputs/\n",
    "!cp g* /content/drive/MyDrive/IITPKD\\ System\\ Data/home/iit/Research\\ Work/Experiments/Baselines/molecule_structure_generation/outputs/\n",
    "!cp h* /content/drive/MyDrive/IITPKD\\ System\\ Data/home/iit/Research\\ Work/Experiments/Baselines/molecule_structure_generation/outputs/\n",
    "!cp model.ckpt-210937.* /content/drive/MyDrive/IITPKD\\ System\\ Data/home/iit/Research\\ Work/Experiments/Baselines/molecule_structure_generation/outputs/"
   ]
  },
  {
   "cell_type": "code",
   "execution_count": null,
   "metadata": {
    "colab": {
     "base_uri": "https://localhost:8080/"
    },
    "executionInfo": {
     "elapsed": 470,
     "status": "ok",
     "timestamp": 1646596796080,
     "user": {
      "displayName": "Shikha Mallick",
      "photoUrl": "https://lh3.googleusercontent.com/a-/AOh14GjoRyV4TB5l3kSyBeE28ldIN2S1glHF3FTZvVEf_Q=s64",
      "userId": "13917264246341255180"
     },
     "user_tz": -330
    },
    "id": "8Wwck0Om83cg",
    "outputId": "2adfcdd2-e4fe-4abf-be20-27665e2dd607"
   },
   "outputs": [],
   "source": [
    "!ls"
   ]
  },
  {
   "cell_type": "code",
   "execution_count": null,
   "metadata": {
    "colab": {
     "base_uri": "https://localhost:8080/"
    },
    "executionInfo": {
     "elapsed": 425,
     "status": "ok",
     "timestamp": 1646786097003,
     "user": {
      "displayName": "Shikha Mallick",
      "photoUrl": "https://lh3.googleusercontent.com/a-/AOh14GjoRyV4TB5l3kSyBeE28ldIN2S1glHF3FTZvVEf_Q=s64",
      "userId": "13917264246341255180"
     },
     "user_tz": -330
    },
    "id": "8jqsAtvrCU-W",
    "outputId": "550ef029-a019-4d30-996c-47ef28ec9e07"
   },
   "outputs": [],
   "source": [
    "%cd /content/"
   ]
  },
  {
   "cell_type": "code",
   "execution_count": null,
   "metadata": {
    "id": "QliDjtt7O_pt"
   },
   "outputs": [],
   "source": [
    "#upload test data proteins file\n",
    "from google.colab import files\n",
    "files.upload()"
   ]
  },
  {
   "cell_type": "code",
   "execution_count": null,
   "metadata": {
    "colab": {
     "base_uri": "https://localhost:8080/"
    },
    "executionInfo": {
     "elapsed": 611,
     "status": "ok",
     "timestamp": 1646786098031,
     "user": {
      "displayName": "Shikha Mallick",
      "photoUrl": "https://lh3.googleusercontent.com/a-/AOh14GjoRyV4TB5l3kSyBeE28ldIN2S1glHF3FTZvVEf_Q=s64",
      "userId": "13917264246341255180"
     },
     "user_tz": -330
    },
    "id": "5_m634pvCUiR",
    "outputId": "333e4187-a0cc-4232-c19c-daee4dbfe47d"
   },
   "outputs": [],
   "source": [
    "!ls"
   ]
  },
  {
   "cell_type": "code",
   "execution_count": null,
   "metadata": {
    "id": "9M8U2Yh5Q9G1"
   },
   "outputs": [],
   "source": [
    "!cp d2_te_unique_proteins.txt /tmp/t2t/data"
   ]
  },
  {
   "cell_type": "code",
   "execution_count": null,
   "metadata": {
    "colab": {
     "base_uri": "https://localhost:8080/"
    },
    "executionInfo": {
     "elapsed": 632,
     "status": "ok",
     "timestamp": 1646789678756,
     "user": {
      "displayName": "Shikha Mallick",
      "photoUrl": "https://lh3.googleusercontent.com/a-/AOh14GjoRyV4TB5l3kSyBeE28ldIN2S1glHF3FTZvVEf_Q=s64",
      "userId": "13917264246341255180"
     },
     "user_tz": -330
    },
    "id": "oskaPzjVPuG6",
    "outputId": "680a6912-7f1c-4a4e-e611-5eaf4916620b"
   },
   "outputs": [],
   "source": [
    "%cd /tmp/t2t/data"
   ]
  },
  {
   "cell_type": "code",
   "execution_count": null,
   "metadata": {
    "colab": {
     "base_uri": "https://localhost:8080/"
    },
    "executionInfo": {
     "elapsed": 6,
     "status": "ok",
     "timestamp": 1646789679405,
     "user": {
      "displayName": "Shikha Mallick",
      "photoUrl": "https://lh3.googleusercontent.com/a-/AOh14GjoRyV4TB5l3kSyBeE28ldIN2S1glHF3FTZvVEf_Q=s64",
      "userId": "13917264246341255180"
     },
     "user_tz": -330
    },
    "id": "7WKxVFZMRK0B",
    "outputId": "488782d8-1f34-469f-d680-ea399b84731a"
   },
   "outputs": [],
   "source": [
    "!ls"
   ]
  },
  {
   "cell_type": "code",
   "execution_count": null,
   "metadata": {
    "colab": {
     "base_uri": "https://localhost:8080/"
    },
    "executionInfo": {
     "elapsed": 5,
     "status": "ok",
     "timestamp": 1646789680010,
     "user": {
      "displayName": "Shikha Mallick",
      "photoUrl": "https://lh3.googleusercontent.com/a-/AOh14GjoRyV4TB5l3kSyBeE28ldIN2S1glHF3FTZvVEf_Q=s64",
      "userId": "13917264246341255180"
     },
     "user_tz": -330
    },
    "id": "UkFXrr9_9ngw",
    "outputId": "60495312-afc3-43c1-c0b4-0fb2958851bb"
   },
   "outputs": [],
   "source": [
    "import random\n",
    "\n",
    "proteins = []\n",
    "with open('d2_te_unique_proteins_run1.txt') as f:\n",
    "    for line in f:\n",
    "        if line.strip() not in proteins:\n",
    "            proteins.append(line.strip())\n",
    "\n",
    "with open('proteins_test1.space_sep_seq_unique', 'w+') as f:\n",
    "    for p in proteins:\n",
    "        sp = p\n",
    "        print(sp)\n",
    "        f.write(sp+'\\n')"
   ]
  },
  {
   "cell_type": "code",
   "execution_count": null,
   "metadata": {
    "colab": {
     "base_uri": "https://localhost:8080/"
    },
    "executionInfo": {
     "elapsed": 4,
     "status": "ok",
     "timestamp": 1646789680387,
     "user": {
      "displayName": "Shikha Mallick",
      "photoUrl": "https://lh3.googleusercontent.com/a-/AOh14GjoRyV4TB5l3kSyBeE28ldIN2S1glHF3FTZvVEf_Q=s64",
      "userId": "13917264246341255180"
     },
     "user_tz": -330
    },
    "id": "yNmc7olXP6jh",
    "outputId": "b78bcb39-6704-482a-827c-f8d4eee35e39"
   },
   "outputs": [],
   "source": [
    "% cd /content"
   ]
  },
  {
   "cell_type": "code",
   "execution_count": null,
   "metadata": {
    "id": "N5REALoFEUfI"
   },
   "outputs": [],
   "source": [
    "from tensor2tensor.bin import t2t_decoder"
   ]
  },
  {
   "cell_type": "code",
   "execution_count": null,
   "metadata": {
    "id": "2JjfRZkj5zig"
   },
   "outputs": [],
   "source": [
    "import time\n",
    "startTime = int(round(time.time() * 1000))"
   ]
  },
  {
   "cell_type": "code",
   "execution_count": null,
   "metadata": {
    "colab": {
     "base_uri": "https://localhost:8080/",
     "output_embedded_package_id": "11JVCTcyfqczMVbBYArXURzvQiS8U0GiY"
    },
    "executionInfo": {
     "elapsed": 182468,
     "status": "ok",
     "timestamp": 1646789928115,
     "user": {
      "displayName": "Shikha Mallick",
      "photoUrl": "https://lh3.googleusercontent.com/a-/AOh14GjoRyV4TB5l3kSyBeE28ldIN2S1glHF3FTZvVEf_Q=s64",
      "userId": "13917264246341255180"
     },
     "user_tz": -330
    },
    "id": "Wh0sqNKIFXPg",
    "outputId": "40d70d7a-b9e4-42ae-fdc5-a48ccab40bdf"
   },
   "outputs": [],
   "source": [
    "! t2t-decoder \\\n",
    "  --hparams_set=transformer_tiny \\\n",
    "  --hparams=\"batch_size=4096,max_length=0,label_smoothing=0,learning_rate_decay_scheme='noam',num_hidden_layers=4\" \\\n",
    "  --decode_hparams=\"beam_size=100,alpha=0.6,batch_size=4,write_beam_scores=False, return_beams=True\" \\\n",
    "  --model=transformer \\\n",
    "  --problem=protein_specific_ligand_generation \\\n",
    "  --data_dir=/tmp/t2t/data \\\n",
    "  --output_dir=/tmp/t2t/output \\\n",
    "  --t2t_usr_dir=/content/transformer_scratch \\\n",
    "  --decode_from_file=/tmp/t2t/data/proteins_test1.space_sep_seq_unique \\\n",
    "  --decode_to_file=/content/drive/MyDrive/IITPKD\\ System\\ Data/home/iit/Research\\ Work/Experiments/Baselines/molecule_structure_generation/outputs/Dataset2/generated_samples/protein.seq.decode.results_ds2_ep6000_beam100"
   ]
  },
  {
   "cell_type": "code",
   "execution_count": null,
   "metadata": {
    "id": "WWVGca1P6o-P"
   },
   "outputs": [],
   "source": [
    "samples_dir = '/content/drive/MyDrive/IITPKD System Data/home/iit/Research Work/Experiments/Baselines/molecule_structure_generation/outputs/Dataset2/generated_samples/'\n",
    "sample_size = 100\n",
    "\n",
    "endTime = int(round(time.time()))\n",
    "with open(samples_dir+f'samples_evaluation.txt', 'a+') as eval_f:\n",
    "    eval_f.write(f'Total time for {sample_size} samples: {endTime - startTime} seconds\\n')"
   ]
  },
  {
   "cell_type": "code",
   "execution_count": null,
   "metadata": {
    "id": "adaL-_rHNeI9"
   },
   "outputs": [],
   "source": []
  }
 ],
 "metadata": {
  "accelerator": "GPU",
  "colab": {
   "collapsed_sections": [],
   "name": "Grechishnikova_model_training_and_decoding.ipynb",
   "provenance": []
  },
  "kernelspec": {
   "display_name": "Python 3 (ipykernel)",
   "language": "python",
   "name": "python3"
  },
  "language_info": {
   "codemirror_mode": {
    "name": "ipython",
    "version": 3
   },
   "file_extension": ".py",
   "mimetype": "text/x-python",
   "name": "python",
   "nbconvert_exporter": "python",
   "pygments_lexer": "ipython3",
   "version": "3.9.12"
  }
 },
 "nbformat": 4,
 "nbformat_minor": 1
}
